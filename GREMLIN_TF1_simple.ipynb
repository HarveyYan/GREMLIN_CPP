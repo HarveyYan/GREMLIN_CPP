{
  "nbformat": 4,
  "nbformat_minor": 0,
  "metadata": {
    "colab": {
      "name": "GREMLIN_TF1_simple.ipynb",
      "provenance": [],
      "collapsed_sections": [],
      "include_colab_link": true
    },
    "kernelspec": {
      "name": "python3",
      "display_name": "Python 3"
    },
    "accelerator": "GPU"
  },
  "cells": [
    {
      "cell_type": "markdown",
      "metadata": {
        "id": "view-in-github",
        "colab_type": "text"
      },
      "source": [
        "<a href=\"https://colab.research.google.com/github/sokrypton/GREMLIN_CPP/blob/master/GREMLIN_TF1_simple.ipynb\" target=\"_parent\"><img src=\"https://colab.research.google.com/assets/colab-badge.svg\" alt=\"Open In Colab\"/></a>"
      ]
    },
    {
      "cell_type": "markdown",
      "metadata": {
        "id": "3SHD25hwV_FA",
        "colab_type": "text"
      },
      "source": [
        "## GREMLIN_TF1_simple\n",
        "\n",
        "This is a bare minimum version of GREMLIN (no gap removal, etc), intended for educational/demo purposes.\n",
        "\n",
        "**WARNING** THIS IS AN OLD VERSION designed to work with Tensorflow v1 (will no longer work with TF2).\n",
        "\n",
        "For the new version designed to integrate with TF2+Keras [see here](https://colab.research.google.com/github/sokrypton/GREMLIN_CPP/blob/master/GREMLIN_TF_simple.ipynb)."
      ]
    },
    {
      "cell_type": "code",
      "metadata": {
        "id": "dyhXMSv5HbpK",
        "colab_type": "code",
        "colab": {}
      },
      "source": [
        "# ------------------------------------------------------------\n",
        "# \"THE BEERWARE LICENSE\" (Revision 42):\n",
        "# <so@g.harvard.edu> and <pkk382@g.harvard.edu> wrote this code.\n",
        "# As long as you retain this notice, you can do whatever you want\n",
        "# with this stuff. If we meet someday, and you think this stuff\n",
        "# is worth it, you can buy us a beer in return.\n",
        "# --Sergey Ovchinnikov and Peter Koo\n",
        "# ------------------------------------------------------------"
      ],
      "execution_count": 0,
      "outputs": []
    },
    {
      "cell_type": "markdown",
      "metadata": {
        "id": "ZdGBxCYlURSw",
        "colab_type": "text"
      },
      "source": [
        "## Load some libraries"
      ]
    },
    {
      "cell_type": "code",
      "metadata": {
        "id": "aJcHKRLQQAS4",
        "colab_type": "code",
        "colab": {}
      },
      "source": [
        "import numpy as np\n",
        "import tensorflow as tf\n",
        "import matplotlib.pylab as plt\n",
        "import string"
      ],
      "execution_count": 0,
      "outputs": []
    },
    {
      "cell_type": "markdown",
      "metadata": {
        "id": "ijbQXxzlYKAk",
        "colab_type": "text"
      },
      "source": [
        "## Convert FASTA to MSA np.array()"
      ]
    },
    {
      "cell_type": "code",
      "metadata": {
        "id": "wU8Gzh1FQEZl",
        "colab_type": "code",
        "colab": {}
      },
      "source": [
        "def parse_fasta(filename, a3m=False):\n",
        "  '''function to parse fasta file'''\n",
        "  \n",
        "  if a3m:\n",
        "    # for a3m files the lowercase letters are removed\n",
        "    # as these do not align to the query sequence\n",
        "    rm_lc = str.maketrans(dict.fromkeys(string.ascii_lowercase))\n",
        "    \n",
        "  header, sequence = [],[]\n",
        "  lines = open(filename, \"r\")\n",
        "  for line in lines:\n",
        "    line = line.rstrip()\n",
        "    if line[0] == \">\":\n",
        "      header.append(line[1:])\n",
        "      sequence.append([])\n",
        "    else:\n",
        "      if a3m: line = line.translate(rm_lc)\n",
        "      else: line = line.upper()\n",
        "      sequence[-1].append(line)\n",
        "  lines.close()\n",
        "  sequence = [''.join(seq) for seq in sequence]\n",
        "  \n",
        "  return header, sequence\n",
        "  \n",
        "def mk_msa(seqs):\n",
        "  '''one hot encode msa'''\n",
        "  alphabet = \"ARNDCQEGHILKMFPSTWYV-\"\n",
        "  states = len(alphabet)  \n",
        "  a2n = {a:n for n,a in enumerate(alphabet)}\n",
        "  msa_ori = np.array([[a2n.get(aa, states-1) for aa in seq] for seq in seqs])\n",
        "  return msa_ori, np.eye(states)[msa_ori]"
      ],
      "execution_count": 0,
      "outputs": []
    },
    {
      "cell_type": "markdown",
      "metadata": {
        "id": "z8j_kpFSUeFT",
        "colab_type": "text"
      },
      "source": [
        "## load example"
      ]
    },
    {
      "cell_type": "code",
      "metadata": {
        "id": "Nn5oow4zP9ht",
        "colab_type": "code",
        "colab": {}
      },
      "source": [
        "!wget -q -nc https://gremlin2.bakerlab.org/db/PDB_EXP/fasta/4FAZA.fas"
      ],
      "execution_count": 0,
      "outputs": []
    },
    {
      "cell_type": "code",
      "metadata": {
        "id": "ipoWnWOCQryY",
        "colab_type": "code",
        "outputId": "9b7065aa-a9a8-40d6-cd45-a41c6908a81a",
        "colab": {
          "base_uri": "https://localhost:8080/",
          "height": 51
        }
      },
      "source": [
        "names, seqs = parse_fasta(\"4FAZA.fas\")\n",
        "msa_ori, msa = mk_msa(seqs)\n",
        "\n",
        "print(msa_ori.shape)\n",
        "print(msa.shape)"
      ],
      "execution_count": 0,
      "outputs": [
        {
          "output_type": "stream",
          "text": [
            "(817, 62)\n",
            "(817, 62, 21)\n"
          ],
          "name": "stdout"
        }
      ]
    },
    {
      "cell_type": "markdown",
      "metadata": {
        "id": "eNAbmgeOQ1UK",
        "colab_type": "text"
      },
      "source": [
        "## GREMLIN\n",
        "GREMLIN is technically an \"autoencoder\" with a single dense (or fully-connected) layer between the input and output, with no hidden variables. GREMLIN tries to minimize the difference between the input and output.  The \"latent\" variables are the (w)eights/(b)ias of the dense layer.\n",
        "\n",
        "* loss = categorical_crossentropy(msa,  softmax(dot(msa, w) + b))\n",
        " - the math is identical to computing the \"pseudolikelihood\" as in GREMLIN()\n",
        " \n",
        "* msa\n",
        " - msa.shape = (batch, L x 21)\n",
        " - 21 =  (20 amino acids + 1 gap) categories\n",
        "* w = weight\n",
        " - w.shape = (L x 21, L x 21)\n",
        " -  aka two-body term of the MRF (aka co-evolution)\n",
        " -  note: the w matrix is symmetrized and the diagional is set to zero\n",
        "* b = bias \n",
        " - b.shape = (L x 21)\n",
        " - aka one-body-term of the MRF (aka conservation)"
      ]
    },
    {
      "cell_type": "code",
      "metadata": {
        "id": "bYFxhwGoQxyT",
        "colab_type": "code",
        "colab": {}
      },
      "source": [
        "def GREMLIN_simple(msa, opt_iter=100):\n",
        "  \n",
        "  # collecting some information about input msa\n",
        "  N = msa.shape[0] # number of sequences\n",
        "  L = msa.shape[1] # length of sequence\n",
        "  A = msa.shape[2] # number of states (or categories)\n",
        "\n",
        "  # kill any existing tensorflow graph\n",
        "  tf.reset_default_graph()\n",
        "\n",
        "  # setting up weights\n",
        "  b = tf.get_variable(\"b\", [L,A])\n",
        "  w = tf.get_variable(\"w\", [L,A,L,A], initializer=tf.initializers.zeros)\n",
        "\n",
        "  # symmetrize w\n",
        "  w = w * np.reshape(1-np.eye(L),(L,1,L,1))\n",
        "  w = w + tf.transpose(w,[2,3,0,1])\n",
        "  \n",
        "  # input\n",
        "  MSA = tf.constant(msa,dtype=tf.float32)\n",
        "\n",
        "  # dense layer + softmax activation\n",
        "  MSA_pred = tf.nn.softmax(tf.tensordot(MSA,w,2)+b,-1)\n",
        "\n",
        "  # loss = categorical crossentropy (aka pseudo-likelihood)\n",
        "  loss = tf.reduce_sum(tf.keras.losses.categorical_crossentropy(MSA,MSA_pred))\n",
        "\n",
        "  # add L2 regularization\n",
        "  reg_b = 0.01 * tf.reduce_sum(tf.square(b))\n",
        "  reg_w = 0.01 * tf.reduce_sum(tf.square(w)) * 0.5 * (L-1) * (A-1)\n",
        "  loss = loss + reg_b + reg_w\n",
        "\n",
        "  # setup optimizer\n",
        "  learning_rate = 0.1 * np.log(N)/L\n",
        "  opt = tf.train.AdamOptimizer(learning_rate).minimize(loss)\n",
        "\n",
        "  # optimize!\n",
        "  with tf.Session() as sess:\n",
        "    sess.run(tf.global_variables_initializer())\n",
        "\n",
        "    # initialize bias\n",
        "    pc = 0.01 * np.log(N)\n",
        "    b_ini = np.log(np.sum(msa,0) + pc)\n",
        "    b_ini = b_ini - np.mean(b_ini,-1,keepdims=True)\n",
        "    sess.run(b.assign(b_ini))\n",
        "    \n",
        "    print(\"starting\",sess.run(loss))\n",
        "\n",
        "    for i in range(opt_iter):\n",
        "      sess.run(opt)\n",
        "      if (i+1) % int(opt_iter/10) == 0:\n",
        "        print((i+1),sess.run(loss))\n",
        "\n",
        "    # save the weights (aka V and W parameters of the MRF)\n",
        "    V = sess.run(b)\n",
        "    W = sess.run(w)\n",
        "  return(V,W) "
      ],
      "execution_count": 0,
      "outputs": []
    },
    {
      "cell_type": "code",
      "metadata": {
        "id": "BEnCFJg1XBaf",
        "colab_type": "code",
        "outputId": "edcb706f-316a-4590-aec8-59085f5bb3c6",
        "colab": {
          "base_uri": "https://localhost:8080/",
          "height": 238
        }
      },
      "source": [
        "%%time\n",
        "V,W = GREMLIN_simple(msa)"
      ],
      "execution_count": 0,
      "outputs": [
        {
          "output_type": "stream",
          "text": [
            "starting 80407.195\n",
            "10 42247.953\n",
            "20 38261.227\n",
            "30 36949.69\n",
            "40 36504.938\n",
            "50 36318.1\n",
            "60 36232.797\n",
            "70 36190.547\n",
            "80 36166.117\n",
            "90 36149.688\n",
            "100 36137.156\n",
            "CPU times: user 1.56 s, sys: 748 ms, total: 2.31 s\n",
            "Wall time: 6.35 s\n"
          ],
          "name": "stdout"
        }
      ]
    },
    {
      "cell_type": "markdown",
      "metadata": {
        "id": "2VYRfajHSgv1",
        "colab_type": "text"
      },
      "source": [
        "## get contacts"
      ]
    },
    {
      "cell_type": "code",
      "metadata": {
        "id": "mTw-NPuCSESQ",
        "colab_type": "code",
        "colab": {}
      },
      "source": [
        "def get_mtx(W):\n",
        "  # l2norm of 20x20 matrices (note: we ignore gaps)\n",
        "  raw = np.sqrt(np.sum(np.square(W[:,:-1,:,:-1]),(1,3)))\n",
        "\n",
        "  # apc (average product correction)\n",
        "  ap = np.sum(raw,0,keepdims=True)*np.sum(raw,1,keepdims=True)/np.sum(raw)\n",
        "  apc = raw - ap\n",
        "  np.fill_diagonal(apc,0)\n",
        "  \n",
        "  return(raw,apc)"
      ],
      "execution_count": 0,
      "outputs": []
    },
    {
      "cell_type": "code",
      "metadata": {
        "id": "hjJrppRvS2pV",
        "colab_type": "code",
        "outputId": "5303224e-c65e-42e4-a187-62ce7c436e46",
        "colab": {
          "base_uri": "https://localhost:8080/",
          "height": 318
        }
      },
      "source": [
        "raw, apc = get_mtx(W)\n",
        "\n",
        "plt.figure(figsize=(10,5))\n",
        "plt.subplot(1,2,1)\n",
        "plt.imshow(raw)\n",
        "plt.grid(False)\n",
        "plt.title(\"raw\")\n",
        "plt.subplot(1,2,2)\n",
        "plt.imshow(apc)\n",
        "plt.grid(False)\n",
        "plt.title(\"apc\")\n",
        "plt.show()"
      ],
      "execution_count": 0,
      "outputs": [
        {
          "output_type": "display_data",
          "data": {
            "image/png": "[encoded data removed]",
            "text/plain": [
              "<Figure size 720x360 with 2 Axes>"
            ]
          },
          "metadata": {
            "tags": []
          }
        }
      ]
    },
    {
      "cell_type": "markdown",
      "metadata": {
        "id": "zbdMaGvQFXXs",
        "colab_type": "text"
      },
      "source": [
        "## EXTRA!\n",
        "Now lets try expand GREMLIN a bit, by adding sequence weights and ability to do stocastic gradient decent\n"
      ]
    },
    {
      "cell_type": "code",
      "metadata": {
        "id": "Ug0PcWP1J_EA",
        "colab_type": "code",
        "colab": {}
      },
      "source": [
        "from scipy.spatial.distance import pdist,squareform\n",
        "def get_eff(msa,eff_cutoff=0.8):\n",
        "  '''compute effective weight for each sequence'''\n",
        "  \n",
        "  # pairwise identity\n",
        "  msa_sm = 1.0 - squareform(pdist(msa,\"hamming\"))\n",
        "\n",
        "  # weight for each sequence\n",
        "  msa_w = np.zeros_like(msa_sm)\n",
        "  msa_w[np.where(msa_sm >= eff_cutoff)] = 1\n",
        "  msa_w = 1/np.sum(msa_w,-1)\n",
        "  \n",
        "  return msa_w"
      ],
      "execution_count": 0,
      "outputs": []
    },
    {
      "cell_type": "code",
      "metadata": {
        "id": "wfUkxvytKC2V",
        "colab_type": "code",
        "colab": {}
      },
      "source": [
        "# compute weight for each sequence in the MSA\n",
        "msa_weights = get_eff(msa_ori)"
      ],
      "execution_count": 0,
      "outputs": []
    },
    {
      "cell_type": "code",
      "metadata": {
        "id": "DocUKCF_Fq_k",
        "colab_type": "code",
        "colab": {}
      },
      "source": [
        "def GREMLIN_simple_v2(msa, msa_weights=None, opt_iter=100, batch_size=None):\n",
        "\n",
        "  # collecting some information about input msa\n",
        "  N = msa.shape[0] # number of sequences\n",
        "  L = msa.shape[1] # length of sequence\n",
        "  A = msa.shape[2] # number of states (or categories)\n",
        "  \n",
        "  if msa_weights is None:\n",
        "    msa_weights = np.ones(N)\n",
        "  \n",
        "  neff = np.sum(msa_weights) # number of \"effective\" sequences\n",
        "\n",
        "  # kill any existing tensorflow graph\n",
        "  tf.reset_default_graph()\n",
        "\n",
        "  # setting up weights\n",
        "  b = tf.get_variable(\"b\", [L,A])\n",
        "  w = tf.get_variable(\"w\", [L,A,L,A],\n",
        "                      initializer=tf.initializers.zeros)\n",
        "\n",
        "  # symmetrize w\n",
        "  w = w * np.reshape(1-np.eye(L),(L,1,L,1))\n",
        "  w = w + tf.transpose(w,[2,3,0,1])\n",
        "  \n",
        "  # input\n",
        "  MSA = tf.placeholder(tf.float32,shape=(None,L,A),name=\"msa\")\n",
        "  MSA_weights = tf.placeholder(tf.float32,shape=(None,),name=\"msa_weights\")\n",
        "  NEFF = tf.reduce_sum(MSA_weights)\n",
        "\n",
        "  # dense layer + softmax activation\n",
        "  MSA_pred = tf.nn.softmax(tf.tensordot(MSA,w,2)+b,-1)\n",
        "\n",
        "  # loss = categorical crossentropy (aka pseudo-likelihood)\n",
        "  loss = tf.reduce_sum(tf.keras.losses.categorical_crossentropy(MSA,MSA_pred),-1)\n",
        "  loss = tf.reduce_sum(loss * MSA_weights)/NEFF\n",
        "\n",
        "  # add L2 regularization\n",
        "  reg_b = 0.01 * tf.reduce_sum(tf.square(b))\n",
        "  reg_w = 0.01 * tf.reduce_sum(tf.square(w)) * 0.5 * (L-1) * (A-1)\n",
        "  loss = loss + (reg_b + reg_w)/neff\n",
        "\n",
        "  # setup optimizer\n",
        "  learning_rate = 0.1 * tf.log(NEFF)/L\n",
        "  opt = tf.train.AdamOptimizer(learning_rate).minimize(loss)\n",
        "  \n",
        "  # generate input/feed\n",
        "  def feed(feed_all=False):\n",
        "    if batch_size is None or feed_all:\n",
        "      return {MSA:msa, MSA_weights:msa_weights}\n",
        "    else:\n",
        "      idx = np.random.randint(0,N,size=batch_size)\n",
        "      return {MSA:msa[idx], MSA_weights:msa_weights[idx]}\n",
        "  \n",
        "  # optimize\n",
        "  with tf.Session() as sess:\n",
        "    \n",
        "    # initialize\n",
        "    sess.run(tf.global_variables_initializer())\n",
        "    \n",
        "    # initialize bias\n",
        "    pc = 0.01 * np.log(neff)\n",
        "    b_ini = np.log(np.sum(msa.T * msa_weights,-1).T + pc)\n",
        "    b_ini = b_ini - np.mean(b_ini,-1,keepdims=True)\n",
        "    sess.run(b.assign(b_ini))\n",
        "    \n",
        "    # compute loss across all data\n",
        "    get_loss = lambda: round(sess.run(loss,feed(feed_all=True)) * neff,2)\n",
        "    print(\"starting\", get_loss())\n",
        "\n",
        "    # iterate!\n",
        "    for i in range(opt_iter):\n",
        "      sess.run(opt,feed())\n",
        "      if (i+1) % int(opt_iter/10) == 0:\n",
        "        print(\"iter\",(i+1),get_loss())\n",
        " \n",
        "    # save the weights (aka V and W parameters of the MRF)\n",
        "    V = sess.run(b)\n",
        "    W = sess.run(w)\n",
        "      \n",
        "  # return the learned weights!\n",
        "  return V, W"
      ],
      "execution_count": 0,
      "outputs": []
    },
    {
      "cell_type": "code",
      "metadata": {
        "id": "noqLtCNUGwM4",
        "colab_type": "code",
        "outputId": "6a481180-3b4c-425c-a58a-d0121c228484",
        "colab": {
          "base_uri": "https://localhost:8080/",
          "height": 238
        }
      },
      "source": [
        "%%time\n",
        "V,W = GREMLIN_simple_v2(msa, msa_weights, opt_iter=100, batch_size=100)"
      ],
      "execution_count": 0,
      "outputs": [
        {
          "output_type": "stream",
          "text": [
            "starting 51135.13\n",
            "iter 10 36746.46\n",
            "iter 20 32549.83\n",
            "iter 30 30373.74\n",
            "iter 40 29601.14\n",
            "iter 50 29382.94\n",
            "iter 60 29208.42\n",
            "iter 70 29193.34\n",
            "iter 80 29102.1\n",
            "iter 90 29143.56\n",
            "iter 100 29139.56\n",
            "CPU times: user 1.07 s, sys: 161 ms, total: 1.23 s\n",
            "Wall time: 1.17 s\n"
          ],
          "name": "stdout"
        }
      ]
    },
    {
      "cell_type": "code",
      "metadata": {
        "id": "Ub9W3_S6OHhp",
        "colab_type": "code",
        "outputId": "74d668c3-f8e8-47ce-9d9d-0e556fe85389",
        "colab": {
          "base_uri": "https://localhost:8080/",
          "height": 318
        }
      },
      "source": [
        "raw_v2, apc_v2 = get_mtx(W)\n",
        "\n",
        "plt.figure(figsize=(10,5))\n",
        "plt.subplot(1,2,1)\n",
        "plt.imshow(raw_v2)\n",
        "plt.grid(False)\n",
        "plt.title(\"raw_v2\")\n",
        "plt.subplot(1,2,2)\n",
        "plt.imshow(apc_v2)\n",
        "plt.grid(False)\n",
        "plt.title(\"apc_v2\")\n",
        "plt.show()"
      ],
      "execution_count": 0,
      "outputs": [
        {
          "output_type": "display_data",
          "data": {
            "image/png": "[encoded data removed]",
            "text/plain": [
              "<Figure size 720x360 with 2 Axes>"
            ]
          },
          "metadata": {
            "tags": []
          }
        }
      ]
    },
    {
      "cell_type": "code",
      "metadata": {
        "id": "eA0JaAUQnpzv",
        "colab_type": "code",
        "colab": {}
      },
      "source": [
        ""
      ],
      "execution_count": 0,
      "outputs": []
    }
  ]
}