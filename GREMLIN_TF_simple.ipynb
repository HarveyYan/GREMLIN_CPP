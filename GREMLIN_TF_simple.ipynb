{
  "nbformat": 4,
  "nbformat_minor": 0,
  "metadata": {
    "colab": {
      "name": "GREMLIN_TF_simple.ipynb",
      "provenance": [],
      "collapsed_sections": [],
      "include_colab_link": true
    },
    "kernelspec": {
      "name": "python3",
      "display_name": "Python 3"
    },
    "accelerator": "GPU"
  },
  "cells": [
    {
      "cell_type": "markdown",
      "metadata": {
        "id": "view-in-github",
        "colab_type": "text"
      },
      "source": [
        "<a href=\"https://colab.research.google.com/github/sokrypton/GREMLIN_CPP/blob/master/GREMLIN_TF_simple.ipynb\" target=\"_parent\"><img src=\"https://colab.research.google.com/assets/colab-badge.svg\" alt=\"Open In Colab\"/></a>"
      ]
    },
    {
      "cell_type": "markdown",
      "metadata": {
        "id": "3SHD25hwV_FA",
        "colab_type": "text"
      },
      "source": [
        "## GREMLIN_TF_simple\n",
        "This is a bare minimum version of GREMLIN re-written to work with keras + tensorflow (v1 and v2).\n",
        "\n",
        "For the old version of GREMLIN_TF_simple, that currently only works w/ tensorflow v1 [see here](https://colab.research.google.com/github/sokrypton/GREMLIN_CPP/blob/master/GREMLIN_TF1_simple.ipynb)."
      ]
    },
    {
      "cell_type": "code",
      "metadata": {
        "id": "dyhXMSv5HbpK",
        "colab_type": "code",
        "colab": {}
      },
      "source": [
        "# ------------------------------------------------------------\n",
        "# \"THE BEERWARE LICENSE\" (Revision 42):\n",
        "# <so@g.harvard.edu> and <koo@cshl.edu> wrote this code.\n",
        "# As long as you retain this notice, you can do whatever you want\n",
        "# with this stuff. If we meet someday, and you think this stuff\n",
        "# is worth it, you can buy us a beer in return.\n",
        "# --Sergey Ovchinnikov and Peter Koo\n",
        "# ------------------------------------------------------------"
      ],
      "execution_count": 0,
      "outputs": []
    },
    {
      "cell_type": "markdown",
      "metadata": {
        "id": "PB3ZQBCcSh-A",
        "colab_type": "text"
      },
      "source": [
        "Select tensorflow version for Google Colab"
      ]
    },
    {
      "cell_type": "code",
      "metadata": {
        "id": "-4AYW-IWRflV",
        "colab_type": "code",
        "colab": {
          "base_uri": "https://localhost:8080/",
          "height": 34
        },
        "outputId": "3a411cb3-60f0-4c4c-aab1-427fd53bc848"
      },
      "source": [
        "%tensorflow_version 2.x"
      ],
      "execution_count": 2,
      "outputs": [
        {
          "output_type": "stream",
          "text": [
            "TensorFlow 2.x selected.\n"
          ],
          "name": "stdout"
        }
      ]
    },
    {
      "cell_type": "markdown",
      "metadata": {
        "id": "ZdGBxCYlURSw",
        "colab_type": "text"
      },
      "source": [
        "## Load some libraries"
      ]
    },
    {
      "cell_type": "code",
      "metadata": {
        "id": "aJcHKRLQQAS4",
        "colab_type": "code",
        "colab": {}
      },
      "source": [
        "import numpy as np\n",
        "import matplotlib.pylab as plt\n",
        "import string"
      ],
      "execution_count": 0,
      "outputs": []
    },
    {
      "cell_type": "markdown",
      "metadata": {
        "id": "ijbQXxzlYKAk",
        "colab_type": "text"
      },
      "source": [
        "## Convert FASTA to MSA np.array()"
      ]
    },
    {
      "cell_type": "code",
      "metadata": {
        "id": "wU8Gzh1FQEZl",
        "colab_type": "code",
        "colab": {}
      },
      "source": [
        "# Update 17Oct2019: 2X faster version of mk_msa() contributed by Ivan Anishchenko\n",
        "\n",
        "def parse_fasta(filename, a3m=False):\n",
        "  '''function to parse fasta file'''\n",
        "  \n",
        "  if a3m:\n",
        "    # for a3m files the lowercase letters are removed\n",
        "    # as these do not align to the query sequence\n",
        "    rm_lc = str.maketrans(dict.fromkeys(string.ascii_lowercase))\n",
        "    \n",
        "  header, sequence = [],[]\n",
        "  lines = open(filename, \"r\")\n",
        "  for line in lines:\n",
        "    line = line.rstrip()\n",
        "    if line[0] == \">\":\n",
        "      header.append(line[1:])\n",
        "      sequence.append([])\n",
        "    else:\n",
        "      if a3m: line = line.translate(rm_lc)\n",
        "      else: line = line.upper()\n",
        "      sequence[-1].append(line)\n",
        "  lines.close()\n",
        "  sequence = [''.join(seq) for seq in sequence]\n",
        "  return header, sequence\n",
        "  \n",
        "def mk_msa(seqs):\n",
        "  '''one hot encode msa'''\n",
        "  alphabet = list(\"ARNDCQEGHILKMFPSTWYV-\")\n",
        "  states = len(alphabet)\n",
        "  \n",
        "  alpha = np.array(alphabet, dtype='|S1').view(np.uint8)\n",
        "  msa = np.array([list(s) for s in seqs], dtype='|S1').view(np.uint8)  \n",
        "  for n in range(states):\n",
        "    msa[msa == alpha[n]] = n  \n",
        "  msa[msa > states] = states-1\n",
        "  \n",
        "  return np.eye(states)[msa]"
      ],
      "execution_count": 0,
      "outputs": []
    },
    {
      "cell_type": "markdown",
      "metadata": {
        "id": "z8j_kpFSUeFT",
        "colab_type": "text"
      },
      "source": [
        "## load example"
      ]
    },
    {
      "cell_type": "code",
      "metadata": {
        "id": "Nn5oow4zP9ht",
        "colab_type": "code",
        "colab": {}
      },
      "source": [
        "!wget -q -nc https://gremlin2.bakerlab.org/db/PDB_EXP/fasta/4FAZA.fas"
      ],
      "execution_count": 0,
      "outputs": []
    },
    {
      "cell_type": "code",
      "metadata": {
        "id": "ipoWnWOCQryY",
        "colab_type": "code",
        "outputId": "83a20ff0-f61d-490d-8af9-78b21af69e8b",
        "colab": {
          "base_uri": "https://localhost:8080/",
          "height": 34
        }
      },
      "source": [
        "names, seqs = parse_fasta(\"4FAZA.fas\")\n",
        "msa = mk_msa(seqs)\n",
        "\n",
        "print(msa.shape)"
      ],
      "execution_count": 6,
      "outputs": [
        {
          "output_type": "stream",
          "text": [
            "(817, 62, 21)\n"
          ],
          "name": "stdout"
        }
      ]
    },
    {
      "cell_type": "markdown",
      "metadata": {
        "id": "ue1PNibZ0bYY",
        "colab_type": "text"
      },
      "source": [
        "### compute weight for each sequence\n",
        "if your alignment has many redundant sequences, these should be downweighted!\n",
        "For example, if two sequences share more 80% identity, they are effectively one sequence, and thus each would get a weight of 0.5."
      ]
    },
    {
      "cell_type": "code",
      "metadata": {
        "id": "Ug0PcWP1J_EA",
        "colab_type": "code",
        "colab": {}
      },
      "source": [
        "from scipy.spatial.distance import pdist, squareform\n",
        "def get_eff(msa, eff_cutoff=0.8):\n",
        "  if msa.ndim == 3: msa = msa.argmax(-1)    \n",
        "  # pairwise identity  \n",
        "  msa_sm = 1.0 - squareform(pdist(msa,\"hamming\"))\n",
        "  # weight for each sequence\n",
        "  msa_w = (msa_sm >= eff_cutoff).astype(np.float)\n",
        "  msa_w = 1/np.sum(msa_w,-1)\n",
        "  \n",
        "  return msa_w"
      ],
      "execution_count": 0,
      "outputs": []
    },
    {
      "cell_type": "code",
      "metadata": {
        "id": "Z5tO8gu2Plln",
        "colab_type": "code",
        "colab": {}
      },
      "source": [
        "msa_weights = get_eff(msa)"
      ],
      "execution_count": 0,
      "outputs": []
    },
    {
      "cell_type": "markdown",
      "metadata": {
        "id": "eNAbmgeOQ1UK",
        "colab_type": "text"
      },
      "source": [
        "## GREMLIN\n",
        "GREMLIN is technically an \"autoencoder\" with a single dense (or fully-connected) layer between the input and output.\n",
        "GREMLIN minimizes the difference between the input and output. The \"latent\" variables are the (w)eights/(b)ias of the dense layer.\n",
        "\n",
        "* loss = categorical_crossentropy(msa,  softmax(dot(msa, w) + b))\n",
        " - the math is identical to computing the \"pseudolikelihood\" as in GREMLIN()\n",
        " \n",
        "* msa\n",
        " - msa.shape = (batch, L x 21)\n",
        " - 21 =  (20 amino acids + 1 gap) categories\n",
        "* w = weight\n",
        " - w.shape = (L x 21, L x 21)\n",
        " -  aka two-body term of the MRF (aka co-evolution)\n",
        " -  note: the w matrix is symmetrized and the diagional is set to zero\n",
        "* b = bias \n",
        " - b.shape = (L x 21)\n",
        " - aka one-body-term of the MRF (aka conservation)"
      ]
    },
    {
      "cell_type": "code",
      "metadata": {
        "id": "pvS4lzAmZL-3",
        "colab_type": "code",
        "colab": {}
      },
      "source": [
        "import tensorflow as tf\n",
        "import tensorflow.keras.backend as K\n",
        "\n",
        "from tensorflow.keras.models import Sequential\n",
        "from tensorflow.keras.layers import Dense, Flatten, Reshape, Activation\n",
        "from tensorflow.keras.optimizers import Adam\n",
        "from tensorflow.keras.regularizers import l2\n",
        "from tensorflow.keras.initializers import Zeros, Constant\n",
        "from tensorflow.keras.losses import categorical_crossentropy"
      ],
      "execution_count": 0,
      "outputs": []
    },
    {
      "cell_type": "code",
      "metadata": {
        "id": "bYFxhwGoQxyT",
        "colab_type": "code",
        "colab": {}
      },
      "source": [
        "def GREMLIN_simple(msa, msa_weights=None, lam=0.01, \n",
        "                   opt=None, opt_rate=None,\n",
        "                   opt_batch=None, opt_epochs=100):\n",
        "  '''\n",
        "  ------------------------------------------------------\n",
        "  inputs\n",
        "  ------------------------------------------------------\n",
        "   msa         : msa input       shape=(N,L,A)\n",
        "   msa_weights : weight per seq  shape=(N,)\n",
        "  ------------------------------------------------------\n",
        "  optional inputs\n",
        "  ------------------------------------------------------\n",
        "   lam         : L2 regularization weight\n",
        "   opt         : optimizer\n",
        "   opt_rate    : learning rate\n",
        "   opt_batch   : batch size\n",
        "   opt_epochs  : number of epochs\n",
        "  ------------------------------------------------------\n",
        "  outputs \n",
        "  ------------------------------------------------------\n",
        "   v           : conservation    shape=(L,A)\n",
        "   w           : coevolution     shape=(L,A,L,A)\n",
        "  ------------------------------------------------------\n",
        "  '''\n",
        "  \n",
        "  # [N]umber of sequences, [L]ength, and size of [A]lphabet\n",
        "  N,L,A = msa.shape\n",
        "    \n",
        "  # reset any open sessions/graphs\n",
        "  K.clear_session()\n",
        "  \n",
        "  #############################\n",
        "  # the model\n",
        "  #############################  \n",
        "  \n",
        "  # constraints\n",
        "  def cst_w(x):\n",
        "    '''symmetrize, set diagonal to zero'''\n",
        "    x = (x + K.transpose(x))/2    \n",
        "    zero_mask = K.constant((1-np.eye(L))[:,None,:,None],dtype=tf.float32)\n",
        "    x = K.reshape(x,(L,A,L,A)) * zero_mask\n",
        "    return K.reshape(x,(L*A,L*A))\n",
        "  \n",
        "  # initialiation\n",
        "  if msa_weights is None:\n",
        "    Neff = N\n",
        "    pssm = msa.sum(0)\n",
        "  else:\n",
        "    Neff = msa_weights.sum()\n",
        "    pssm = (msa.T*msa_weights).sum(-1).T\n",
        "  \n",
        "  ini_v = np.log(pssm + lam * np.log(Neff))\n",
        "  ini_v = Constant(ini_v - ini_v.mean(-1,keepdims=True))\n",
        "  ini_w = Zeros\n",
        "  \n",
        "  # regularization\n",
        "  lam_v = l2(lam/N)\n",
        "  lam_w = l2(lam/N * (L-1)*(A-1)/2)\n",
        "  \n",
        "  # model\n",
        "  model = Sequential()\n",
        "  model.add(Flatten(input_shape=(L,A)))\n",
        "  model.add(Dense(units=L*A,\n",
        "                  kernel_initializer=ini_w,\n",
        "                  kernel_regularizer=lam_w,\n",
        "                  kernel_constraint=cst_w,\n",
        "                  bias_initializer=ini_v,\n",
        "                  bias_regularizer=lam_v)) \n",
        "  model.add(Reshape((L,A)))\n",
        "  model.add(Activation(\"softmax\"))\n",
        "  \n",
        "  #############################\n",
        "  # compile model\n",
        "  #############################\n",
        "  # loss function = CCE = -Pseudolikelihood\n",
        "  @tf.function\n",
        "  def CCE(true,pred):\n",
        "    return K.sum(-true * K.log(pred + 1e-8),axis=(1,2))\n",
        "  \n",
        "  # optimizer settings\n",
        "  if opt is None: opt = Adam\n",
        "  if opt_rate is None: opt_rate = 0.1 * np.log(Neff)/L\n",
        "  if opt_batch is None: opt_batch = N\n",
        "\n",
        "  model.compile(opt(opt_rate),CCE)  \n",
        "    \n",
        "  #############################\n",
        "  # fit model\n",
        "  #############################\n",
        "  model.fit(msa, msa, sample_weight=msa_weights,\n",
        "            batch_size=opt_batch, epochs=opt_epochs,\n",
        "            verbose=False)\n",
        "\n",
        "  # report loss\n",
        "  loss = model.evaluate(msa, msa, sample_weight=msa_weights, verbose=False) * N\n",
        "  print(f\"loss: {loss}\")\n",
        "  \n",
        "  #############################\n",
        "  # return weights\n",
        "  #############################\n",
        "  w,v = model.get_weights()\n",
        "  return v.reshape((L,A)), w.reshape((L,A,L,A))"
      ],
      "execution_count": 0,
      "outputs": []
    },
    {
      "cell_type": "code",
      "metadata": {
        "id": "BEnCFJg1XBaf",
        "colab_type": "code",
        "outputId": "acb4dde7-7425-4080-a9ed-02a6eb89f5f2",
        "colab": {
          "base_uri": "https://localhost:8080/",
          "height": 68
        }
      },
      "source": [
        "%%time\n",
        "V, W = GREMLIN_simple(msa, msa_weights)"
      ],
      "execution_count": 14,
      "outputs": [
        {
          "output_type": "stream",
          "text": [
            "loss: 26911.78012466431\n",
            "CPU times: user 2.68 s, sys: 283 ms, total: 2.96 s\n",
            "Wall time: 3.3 s\n"
          ],
          "name": "stdout"
        }
      ]
    },
    {
      "cell_type": "markdown",
      "metadata": {
        "id": "2VYRfajHSgv1",
        "colab_type": "text"
      },
      "source": [
        "## get contacts"
      ]
    },
    {
      "cell_type": "code",
      "metadata": {
        "id": "mTw-NPuCSESQ",
        "colab_type": "code",
        "colab": {}
      },
      "source": [
        "def get_mtx(W):\n",
        "  '''\n",
        "  ------------------------------------------------------\n",
        "  inputs\n",
        "  ------------------------------------------------------\n",
        "   w           : coevolution   shape=(L,A,L,A)\n",
        "  ------------------------------------------------------\n",
        "  outputs \n",
        "  ------------------------------------------------------\n",
        "   raw         : l2norm(w)     shape=(L,L)\n",
        "   apc         : apc(raw)      shape=(L,L)\n",
        "  ------------------------------------------------------\n",
        "  '''\n",
        "  # l2norm of 20x20 matrices (note: we ignore gaps)\n",
        "  raw = np.sqrt(np.sum(np.square(W[:,:-1,:,:-1]),(1,3)))\n",
        "\n",
        "  # apc (average product correction)\n",
        "  ap = np.sum(raw,0,keepdims=True)*np.sum(raw,1,keepdims=True)/np.sum(raw)\n",
        "  apc = raw - ap\n",
        "  np.fill_diagonal(apc,0)\n",
        "  \n",
        "  return raw, apc"
      ],
      "execution_count": 0,
      "outputs": []
    },
    {
      "cell_type": "code",
      "metadata": {
        "id": "hjJrppRvS2pV",
        "colab_type": "code",
        "outputId": "396fc181-839f-45dc-bcd2-76e7f781cf62",
        "colab": {
          "base_uri": "https://localhost:8080/",
          "height": 318
        }
      },
      "source": [
        "raw, apc = get_mtx(W)\n",
        "\n",
        "plt.figure(figsize=(10,5))\n",
        "plt.subplot(1,2,1); plt.imshow(raw, cmap='Blues'); plt.title(\"raw\")\n",
        "plt.subplot(1,2,2); plt.imshow(apc, cmap='Blues'); plt.title(\"apc\")\n",
        "plt.show()"
      ],
      "execution_count": 16,
      "outputs": [
        {
          "output_type": "display_data",
          "data": {
            "image/png": "[encoded data removed]",
            "text/plain": [
              "<Figure size 720x360 with 2 Axes>"
            ]
          },
          "metadata": {
            "tags": []
          }
        }
      ]
    },
    {
      "cell_type": "markdown",
      "metadata": {
        "id": "0q8k-Mg0Iqy8",
        "colab_type": "text"
      },
      "source": [
        "# NON SIMPLE FEATURES"
      ]
    },
    {
      "cell_type": "markdown",
      "metadata": {
        "id": "IqnShVUBHqUs",
        "colab_type": "text"
      },
      "source": [
        "### mod_adam\n",
        "Modified adam optimizer for convex problems. We find this simple modification to the adam optimizer removed the need to guess/adjust the learning rate, and required far less steps for convergence."
      ]
    },
    {
      "cell_type": "code",
      "metadata": {
        "id": "SWap4itMron7",
        "colab_type": "code",
        "colab": {}
      },
      "source": [
        "import tensorflow as tf\n",
        "from tensorflow.python.keras.optimizer_v2 import optimizer_v2\n",
        "class mod_adam(optimizer_v2.OptimizerV2):\n",
        "  \n",
        "  def __init__(self, learning_rate=0.5, b1=0.9, b2=0.999, name='mod_adam', **kwargs):\n",
        "    super(mod_adam, self).__init__(name, **kwargs)\n",
        "    self.rt, self.b1, self.b2 = learning_rate, b1, b2\n",
        "\n",
        "  def _create_slots(self, var_list):\n",
        "    for var in var_list: self.add_slot(var, 'm')\n",
        "    for var in var_list: self.add_slot(var, 'v')\n",
        "\n",
        "  def _resource_apply_dense(self, grad, var):\n",
        "    m = self.get_slot(var, 'm')\n",
        "    v = self.get_slot(var, 'v')\n",
        "    m_tmp = self.b1 * m + (1 - self.b1) * grad\n",
        "    v_tmp = self.b2 * v + (1 - self.b2) * tf.reduce_sum(tf.square(grad))\n",
        "    l_tmp = self.rt / (tf.sqrt(v_tmp) + 1e-8)\n",
        "    updates = [m.assign(m_tmp), v.assign(v_tmp), var.assign_add(-l_tmp * m_tmp)]\n",
        "    return tf.group(updates)\n",
        "\n",
        "  def get_config(self):\n",
        "    return super(mod_adam, self).get_config()"
      ],
      "execution_count": 0,
      "outputs": []
    },
    {
      "cell_type": "code",
      "metadata": {
        "colab_type": "code",
        "outputId": "468b0bac-ed8b-4700-f273-65e9dbc33f38",
        "id": "ILsGZjh_TlYx",
        "colab": {
          "base_uri": "https://localhost:8080/",
          "height": 68
        }
      },
      "source": [
        "%%time\n",
        "V, W = GREMLIN_simple(msa, msa_weights, opt=mod_adam, opt_rate=0.5)"
      ],
      "execution_count": 18,
      "outputs": [
        {
          "output_type": "stream",
          "text": [
            "loss: 26871.985652923588\n",
            "CPU times: user 2.3 s, sys: 171 ms, total: 2.48 s\n",
            "Wall time: 1.96 s\n"
          ],
          "name": "stdout"
        }
      ]
    }
  ]
}