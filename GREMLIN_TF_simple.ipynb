{
  "nbformat": 4,
  "nbformat_minor": 0,
  "metadata": {
    "colab": {
      "name": "GREMLIN_TF_simple.ipynb",
      "provenance": [],
      "collapsed_sections": [],
      "include_colab_link": true
    },
    "kernelspec": {
      "name": "python3",
      "display_name": "Python 3"
    },
    "accelerator": "GPU"
  },
  "cells": [
    {
      "cell_type": "markdown",
      "metadata": {
        "id": "view-in-github",
        "colab_type": "text"
      },
      "source": [
        "<a href=\"https://colab.research.google.com/github/sokrypton/GREMLIN_CPP/blob/master/GREMLIN_TF_simple.ipynb\" target=\"_parent\"><img src=\"https://colab.research.google.com/assets/colab-badge.svg\" alt=\"Open In Colab\"/></a>"
      ]
    },
    {
      "cell_type": "markdown",
      "metadata": {
        "id": "3SHD25hwV_FA",
        "colab_type": "text"
      },
      "source": [
        "## GREMLIN_TF_simple\n",
        "This is a bare minimum version of GREMLIN re-written to work with keras + tensorflow (v1 and v2)."
      ]
    },
    {
      "cell_type": "code",
      "metadata": {
        "id": "dyhXMSv5HbpK",
        "colab_type": "code",
        "colab": {}
      },
      "source": [
        "# ------------------------------------------------------------\n",
        "# \"THE BEERWARE LICENSE\" (Revision 42):\n",
        "# <so@g.harvard.edu> and <koo@cshl.edu> wrote this code.\n",
        "# As long as you retain this notice, you can do whatever you want\n",
        "# with this stuff. If we meet someday, and you think this stuff\n",
        "# is worth it, you can buy us a beer in return.\n",
        "# --Sergey Ovchinnikov and Peter Koo\n",
        "# ------------------------------------------------------------"
      ],
      "execution_count": 0,
      "outputs": []
    },
    {
      "cell_type": "markdown",
      "metadata": {
        "id": "ZdGBxCYlURSw",
        "colab_type": "text"
      },
      "source": [
        "## Load some libraries"
      ]
    },
    {
      "cell_type": "code",
      "metadata": {
        "id": "aJcHKRLQQAS4",
        "colab_type": "code",
        "colab": {}
      },
      "source": [
        "import numpy as np\n",
        "import matplotlib.pylab as plt"
      ],
      "execution_count": 0,
      "outputs": []
    },
    {
      "cell_type": "markdown",
      "metadata": {
        "id": "YwB1ToNeZ9-p",
        "colab_type": "text"
      },
      "source": [
        "### OPTIONAL\n",
        "upgrade to tensorflow 2.0"
      ]
    },
    {
      "cell_type": "code",
      "metadata": {
        "id": "Z0C2MPlqZkuQ",
        "colab_type": "code",
        "colab": {}
      },
      "source": [
        "%%bash\n",
        "pip -q uninstall --yes tensorflow\n",
        "pip -q install tensorflow-gpu"
      ],
      "execution_count": 0,
      "outputs": []
    },
    {
      "cell_type": "markdown",
      "metadata": {
        "id": "ijbQXxzlYKAk",
        "colab_type": "text"
      },
      "source": [
        "## Convert FASTA to MSA np.array()"
      ]
    },
    {
      "cell_type": "code",
      "metadata": {
        "id": "wU8Gzh1FQEZl",
        "colab_type": "code",
        "colab": {}
      },
      "source": [
        "def parse_fasta(filename):\n",
        "  '''function to parse fasta file'''\n",
        "  header = []\n",
        "  sequence = []\n",
        "  lines = open(filename, \"r\")\n",
        "  for line in lines:\n",
        "    line = line.rstrip()\n",
        "    if line[0] == \">\":\n",
        "      header.append(line[1:])\n",
        "      sequence.append([])\n",
        "    else:\n",
        "      sequence[-1].append(line)\n",
        "  lines.close()\n",
        "  sequence = [''.join(seq) for seq in sequence]\n",
        "  return np.array(header), np.array(sequence)\n",
        "  \n",
        "def mk_msa(seqs):\n",
        "  '''one hot encode msa'''\n",
        "  alphabet = \"ARNDCQEGHILKMFPSTWYV-\"\n",
        "  states = len(alphabet)\n",
        "  a2n = {}\n",
        "  for a,n in zip(alphabet,range(states)):\n",
        "    a2n[a] = n\n",
        "\n",
        "  def aa2num(aa):\n",
        "    '''convert aa into num'''\n",
        "    if aa in a2n: return a2n[aa]\n",
        "    else: return a2n['-']\n",
        "  \n",
        "  msa = []\n",
        "  for seq in seqs:\n",
        "    msa.append([aa2num(aa) for aa in seq])\n",
        "  msa_ori = np.array(msa)\n",
        "  return msa_ori, np.eye(states)[msa_ori]"
      ],
      "execution_count": 0,
      "outputs": []
    },
    {
      "cell_type": "markdown",
      "metadata": {
        "id": "z8j_kpFSUeFT",
        "colab_type": "text"
      },
      "source": [
        "## load example"
      ]
    },
    {
      "cell_type": "code",
      "metadata": {
        "id": "Nn5oow4zP9ht",
        "colab_type": "code",
        "colab": {}
      },
      "source": [
        "!wget -q -nc https://gremlin2.bakerlab.org/db/PDB_EXP/fasta/4FAZA.fas"
      ],
      "execution_count": 0,
      "outputs": []
    },
    {
      "cell_type": "code",
      "metadata": {
        "id": "ipoWnWOCQryY",
        "colab_type": "code",
        "outputId": "314efe58-b3be-4363-e7d7-5b7f093b3f2e",
        "colab": {
          "base_uri": "https://localhost:8080/",
          "height": 51
        }
      },
      "source": [
        "names,seqs = parse_fasta(\"4FAZA.fas\")\n",
        "msa_ori, msa = mk_msa(seqs)\n",
        "\n",
        "print(msa_ori.shape)\n",
        "print(msa.shape)"
      ],
      "execution_count": 6,
      "outputs": [
        {
          "output_type": "stream",
          "text": [
            "(817, 62)\n",
            "(817, 62, 21)\n"
          ],
          "name": "stdout"
        }
      ]
    },
    {
      "cell_type": "markdown",
      "metadata": {
        "id": "ue1PNibZ0bYY",
        "colab_type": "text"
      },
      "source": [
        "### compute weight for each sequence"
      ]
    },
    {
      "cell_type": "code",
      "metadata": {
        "id": "Ug0PcWP1J_EA",
        "colab_type": "code",
        "colab": {}
      },
      "source": [
        "from scipy.spatial.distance import pdist,squareform\n",
        "def get_eff(msa,eff_cutoff=0.8):\n",
        "  '''compute effective weight for each sequence'''\n",
        "  # pairwise identity\n",
        "  msa_sm = 1.0 - squareform(pdist(msa,\"hamming\"))\n",
        "\n",
        "  # weight for each sequence\n",
        "  msa_w = (msa_sm >= eff_cutoff).astype(np.float)\n",
        "  msa_w = 1/np.sum(msa_w,-1)\n",
        "  \n",
        "  return msa_w"
      ],
      "execution_count": 0,
      "outputs": []
    },
    {
      "cell_type": "code",
      "metadata": {
        "id": "wfUkxvytKC2V",
        "colab_type": "code",
        "colab": {}
      },
      "source": [
        "# compute weight for each sequence in the MSA\n",
        "msa_weights = get_eff(msa_ori)"
      ],
      "execution_count": 0,
      "outputs": []
    },
    {
      "cell_type": "markdown",
      "metadata": {
        "id": "eNAbmgeOQ1UK",
        "colab_type": "text"
      },
      "source": [
        "## GREMLIN\n",
        "GREMLIN is technically an \"autoencoder\" with a single dense (or fully-connected) layer between the input and output.\n",
        "GREMLIN minimizes the difference between the input and output. The \"latent\" variables are the (w)eights/(b)ias of the dense layer.\n",
        "\n",
        "* loss = categorical_crossentropy(msa,  softmax(dot(msa, w) + b))\n",
        " - the math is identical to computing the \"pseudolikelihood\" as in GREMLIN()\n",
        " \n",
        "* msa\n",
        " - msa.shape = (batch, L x 21)\n",
        " - 21 =  (20 amino acids + 1 gap) categories\n",
        "* w = weight\n",
        " - w.shape = (L x 21, L x 21)\n",
        " -  aka two-body term of the MRF (aka co-evolution)\n",
        " -  note: the w matrix is symmetrized and the diagional is set to zero\n",
        "* b = bias \n",
        " - b.shape = (L x 21)\n",
        " - aka one-body-term of the MRF (aka conservation)"
      ]
    },
    {
      "cell_type": "code",
      "metadata": {
        "id": "pvS4lzAmZL-3",
        "colab_type": "code",
        "colab": {}
      },
      "source": [
        "import tensorflow as tf\n",
        "import tensorflow.keras.backend as K\n",
        "\n",
        "from tensorflow.keras.models import Sequential\n",
        "from tensorflow.keras.layers import Dense, Flatten, Reshape\n",
        "from tensorflow.keras.optimizers import Adam\n",
        "from tensorflow.keras.regularizers import l2\n",
        "from tensorflow.keras.initializers import Zeros, Constant\n",
        "from tensorflow.keras.losses import categorical_crossentropy"
      ],
      "execution_count": 0,
      "outputs": []
    },
    {
      "cell_type": "code",
      "metadata": {
        "id": "bYFxhwGoQxyT",
        "colab_type": "code",
        "colab": {}
      },
      "source": [
        "def GREMLIN_simple(msa, msa_weights=None, lam=0.01, batch_size=None, epochs=100):\n",
        "  \n",
        "  # [N]umber of sequences, [L]ength, and size of [A]lphabet\n",
        "  N,L,A = msa.shape\n",
        "  if batch_size is None: batch_size = N\n",
        "  if msa_weights is None: msa_weights = np.ones(N)\n",
        "    \n",
        "  # effective number of sequences\n",
        "  neff = N if msa_weights is None else msa_weights.sum()\n",
        "  \n",
        "  # reset any open sessions/graphs\n",
        "  K.clear_session()\n",
        "  \n",
        "  #############################\n",
        "  # the model\n",
        "  #############################  \n",
        "  # constraints\n",
        "  def cst_w(x):\n",
        "    # symmetrize, set diagonal to zero\n",
        "    x = (x + K.transpose(x))/2    \n",
        "    zero_mask = K.constant((1-np.eye(L))[:,None,:,None],dtype=tf.float32)\n",
        "    x = K.reshape(x,(L,A,L,A)) * zero_mask\n",
        "    return K.reshape(x,(L*A,L*A))\n",
        "  \n",
        "  # initialiation\n",
        "  pc = 0.01 * np.log(neff)\n",
        "  ini_v = np.log((msa * msa_weights[:,None,None]).sum(0) + pc)\n",
        "  ini_v = Constant(ini_v - ini_v.mean(-1,keepdims=True))\n",
        "  ini_w = Zeros\n",
        "  \n",
        "  # regularization\n",
        "  lam_v = l2(lam/N)\n",
        "  lam_w = l2(lam*0.5*(L-1)*(A-1)/N)\n",
        "  \n",
        "  # model\n",
        "  model = Sequential()\n",
        "  model.add(Flatten(input_shape=(L,A)))\n",
        "  model.add(Dense(units=L*A,\n",
        "                  kernel_initializer=ini_w,\n",
        "                  kernel_regularizer=lam_w,\n",
        "                  kernel_constraint=cst_w,\n",
        "                  bias_initializer=ini_v,\n",
        "                  bias_regularizer=lam_v)) \n",
        "  model.add(Reshape((L,A)))\n",
        "  \n",
        "  #############################\n",
        "  # loss function\n",
        "  #############################\n",
        "  @tf.function\n",
        "  def CCE(true,pred):\n",
        "    '''CCE = -Pseudolikelihood'''\n",
        "    return K.sum(categorical_crossentropy(true,pred,from_logits=True),axis=-1)     \n",
        "  \n",
        "  #############################\n",
        "  # fit model\n",
        "  #############################\n",
        "  learning_rate = 0.1*np.log(neff)/L\n",
        "  model.compile(Adam(learning_rate),CCE)\n",
        "  model.fit(msa,msa,\n",
        "            sample_weight=msa_weights,\n",
        "            batch_size=batch_size,\n",
        "            epochs=epochs,verbose=False)  \n",
        "\n",
        "  loss = model.evaluate(msa,msa,sample_weight=msa_weights,batch_size=batch_size,verbose=False)\n",
        "  print(f\"loss: {loss * N}\")\n",
        "  \n",
        "  #############################\n",
        "  # return weights\n",
        "  #############################\n",
        "  w,v = model.get_weights()\n",
        "  return v.reshape((L,A)), w.reshape((L,A,L,A))"
      ],
      "execution_count": 0,
      "outputs": []
    },
    {
      "cell_type": "code",
      "metadata": {
        "id": "BEnCFJg1XBaf",
        "colab_type": "code",
        "outputId": "1a22891c-c4b6-4758-ad81-fd5c4da3fb3d",
        "colab": {
          "base_uri": "https://localhost:8080/",
          "height": 68
        }
      },
      "source": [
        "%%time\n",
        "V,W = GREMLIN_simple(msa,msa_weights)"
      ],
      "execution_count": 11,
      "outputs": [
        {
          "output_type": "stream",
          "text": [
            "loss: 26911.779415130615\n",
            "CPU times: user 2.89 s, sys: 617 ms, total: 3.51 s\n",
            "Wall time: 3.1 s\n"
          ],
          "name": "stdout"
        }
      ]
    },
    {
      "cell_type": "markdown",
      "metadata": {
        "id": "2VYRfajHSgv1",
        "colab_type": "text"
      },
      "source": [
        "## get contacts"
      ]
    },
    {
      "cell_type": "code",
      "metadata": {
        "id": "mTw-NPuCSESQ",
        "colab_type": "code",
        "colab": {}
      },
      "source": [
        "def get_mtx(W):\n",
        "  # l2norm of 20x20 matrices (note: we ignore gaps)\n",
        "  raw = np.sqrt(np.sum(np.square(W[:,:-1,:,:-1]),(1,3)))\n",
        "\n",
        "  # apc (average product correction)\n",
        "  ap = np.sum(raw,0,keepdims=True)*np.sum(raw,1,keepdims=True)/np.sum(raw)\n",
        "  apc = raw - ap\n",
        "  np.fill_diagonal(apc,0)\n",
        "  \n",
        "  return(raw,apc)"
      ],
      "execution_count": 0,
      "outputs": []
    },
    {
      "cell_type": "code",
      "metadata": {
        "id": "hjJrppRvS2pV",
        "colab_type": "code",
        "outputId": "99ae3fc7-4380-425a-c925-56e0474fb1ef",
        "colab": {
          "base_uri": "https://localhost:8080/",
          "height": 318
        }
      },
      "source": [
        "raw, apc = get_mtx(W)\n",
        "\n",
        "plt.figure(figsize=(10,5))\n",
        "plt.subplot(1,2,1)\n",
        "plt.imshow(raw)\n",
        "plt.grid(False)\n",
        "plt.title(\"raw\")\n",
        "plt.subplot(1,2,2)\n",
        "plt.imshow(apc)\n",
        "plt.grid(False)\n",
        "plt.title(\"apc\")\n",
        "plt.show()"
      ],
      "execution_count": 13,
      "outputs": [
        {
          "output_type": "display_data",
          "data": {
            "image/png": "[encoded data removed]",
            "text/plain": [
              "<Figure size 720x360 with 2 Axes>"
            ]
          },
          "metadata": {
            "tags": []
          }
        }
      ]
    },
    {
      "cell_type": "code",
      "metadata": {
        "id": "SWap4itMron7",
        "colab_type": "code",
        "colab": {}
      },
      "source": [
        ""
      ],
      "execution_count": 0,
      "outputs": []
    }
  ]
}